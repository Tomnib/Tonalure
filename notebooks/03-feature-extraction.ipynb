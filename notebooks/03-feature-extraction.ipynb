{
 "cells": [
  {
   "cell_type": "code",
   "execution_count": 15,
   "id": "eec6a4b9-3e0a-4d3a-bcb4-a6537563fdb6",
   "metadata": {},
   "outputs": [],
   "source": [
    "import json\n",
    "from pathlib import Path\n",
    "import librosa\n",
    "import numpy as np\n",
    "import os"
   ]
  },
  {
   "cell_type": "code",
   "execution_count": 16,
   "id": "e026ad9f-00fb-4d3a-a4e1-100208fd765e",
   "metadata": {},
   "outputs": [
    {
     "name": "stdout",
     "output_type": "stream",
     "text": [
      "Path: C:\\Users\\thoma\\Downloads\\Disappear.mp3\n",
      "Processing: Disappear.mp3\n",
      "Sections to analyze: [{'start_sec': 0.0, 'end_sec': 14.0}]\n"
     ]
    }
   ],
   "source": [
    "# Load tagging data\n",
    "with open(\"favorite_sections.json\", \"r\") as f:\n",
    "    tag_data = json.load(f)\n",
    "\n",
    "audio_directory = r\"C:\\Users\\thoma\\Downloads\"\n",
    "\n",
    "audio_path = Path(f\"{audio_directory}\\{tag_data['file']}\")\n",
    "sample_rate = tag_data[\"sample_rate\"]\n",
    "sections = tag_data[\"sections\"]\n",
    "\n",
    "print(f\"Path: {audio_path}\")\n",
    "print(f\"Processing: {audio_path.name}\")\n",
    "print(f\"Sections to analyze: {sections}\")"
   ]
  },
  {
   "cell_type": "code",
   "execution_count": 17,
   "id": "cc9d07ac-c2b9-4c08-aa8b-eceaf4fb955e",
   "metadata": {},
   "outputs": [],
   "source": [
    "# Load full audio file\n",
    "y, sample_rate_actual = librosa.load(str(audio_path), sr=sr)\n",
    "\n",
    "# Confirm sample rate matches\n",
    "assert sample_rate == sample_rate_actual, \"Sample rate mismatch between tag file and loaded audio\""
   ]
  },
  {
   "cell_type": "code",
   "execution_count": 26,
   "id": "16c7b830-b0df-4100-9d0b-1017123c6d59",
   "metadata": {},
   "outputs": [],
   "source": [
    "# Function that extracts timbre, harmonic content, frequency band strength, and Tempo from a given section\n",
    "def extract_audio_features(y_segment, sample_rate):\n",
    "    features = {}\n",
    "\n",
    "    # MFCCs (timbre)\n",
    "    mfcc = librosa.feature.mfcc(y=y_segment, sr=sample_rate, n_mfcc=13)\n",
    "    features[\"mfcc_mean\"] = np.mean(mfcc, axis=1).tolist()\n",
    "\n",
    "    # Chroma (harmonic content)\n",
    "    chroma = librosa.feature.chroma_stft(y=y_segment, sr=sample_rate)\n",
    "    features[\"chroma_mean\"] = np.mean(chroma, axis=1).tolist()\n",
    "\n",
    "    # Spectral contrast (frequency band strength)\n",
    "    contrast = librosa.feature.spectral_contrast(y=y_segment, sr=sample_rate)\n",
    "    features[\"contrast_mean\"] = np.mean(contrast, axis=1).tolist()\n",
    "\n",
    "    # Tempo (\", _\" used to return only the first item (result[0]) in the tuple and ignore the other item)\n",
    "    tempo, _ = librosa.beat.beat_track(y=y_segment, sr=sample_rate)\n",
    "    features[\"tempo\"] = tempo.tolist()\n",
    "\n",
    "    return features"
   ]
  },
  {
   "cell_type": "code",
   "execution_count": 27,
   "id": "b9fa9fea-0469-4e41-8f73-95051e29cfff",
   "metadata": {},
   "outputs": [
    {
     "name": "stdout",
     "output_type": "stream",
     "text": [
      "Extracted features for 1 sections\n",
      "[{'start_sec': 0.0, 'end_sec': 14.0, 'features': {'mfcc_mean': [-225.90866088867188, 235.04234313964844, -81.98894500732422, -13.515945434570312, 28.49778175354004, -23.154523849487305, -6.584556579589844, -4.579257965087891, -16.709625244140625, -6.49915075302124, -8.874130249023438, -9.901187896728516, -5.448530673980713], 'chroma_mean': [0.31316226720809937, 0.3492315113544464, 0.5614087581634521, 0.4568599462509155, 0.433299720287323, 0.5794953107833862, 0.45216867327690125, 0.5390928387641907, 0.30066603422164917, 0.2997592091560364, 0.5430914759635925, 0.43964463472366333], 'contrast_mean': [19.337029807377537, 9.7839523209309, 13.448022318402186, 15.433296410480425, 15.345127805522717, 23.552519680457525, 42.968395797030716], 'tempo': [109.95678191489361]}}]\n"
     ]
    }
   ],
   "source": [
    "# Extract featues from each section\n",
    "extracted = []\n",
    "\n",
    "for section in sections:\n",
    "    start_sample = int(section[\"start_sec\"] * sample_rate)\n",
    "    end_sample = int(section[\"end_sec\"] * sample_rate)\n",
    "    segment = y[start_sample:end_sample]\n",
    "\n",
    "    segment_features = extract_audio_features(segment, sample_rate)\n",
    "    extracted.append({\n",
    "        \"start_sec\": section[\"start_sec\"],\n",
    "        \"end_sec\": section[\"end_sec\"],\n",
    "        \"features\": segment_features\n",
    "    })\n",
    "\n",
    "print(f\"Extracted features for {len(extracted)} sections\")\n",
    "print(extracted)"
   ]
  },
  {
   "cell_type": "code",
   "execution_count": 28,
   "id": "3012759b-31ea-4120-8272-6f4fd055462e",
   "metadata": {},
   "outputs": [
    {
     "name": "stdout",
     "output_type": "stream",
     "text": [
      "Features saved to section_features.json\n"
     ]
    }
   ],
   "source": [
    "output_path = Path(\"section_features.json\")\n",
    "\n",
    "with open(output_path, \"w\") as f:\n",
    "    json.dump({\n",
    "        \"file\": audio_path.name,\n",
    "        \"features\": extracted\n",
    "    }, f, indent=2)\n",
    "\n",
    "print(f\"Features saved to {output_path}\")\n"
   ]
  },
  {
   "cell_type": "code",
   "execution_count": null,
   "id": "40e09a28-e96e-4160-bfa6-fc454d30f5dd",
   "metadata": {},
   "outputs": [],
   "source": []
  }
 ],
 "metadata": {
  "kernelspec": {
   "display_name": "Python 3 (ipykernel)",
   "language": "python",
   "name": "python3"
  },
  "language_info": {
   "codemirror_mode": {
    "name": "ipython",
    "version": 3
   },
   "file_extension": ".py",
   "mimetype": "text/x-python",
   "name": "python",
   "nbconvert_exporter": "python",
   "pygments_lexer": "ipython3",
   "version": "3.11.8"
  }
 },
 "nbformat": 4,
 "nbformat_minor": 5
}
